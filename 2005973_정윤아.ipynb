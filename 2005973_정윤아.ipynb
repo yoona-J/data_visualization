{
 "cells": [
  {
   "cell_type": "markdown",
   "id": "639d7029",
   "metadata": {},
   "source": [
    "## 2005973 정윤아\n",
    "\n",
    "제목\n",
    "===\n",
    "제목\n",
    "---\n",
    "\n",
    "# 제목\n",
    "## 제목\n",
    "### 제목\n",
    "#### 제목\n",
    "##### 제목\n",
    "###### 제목\n",
    "\n",
    "# 순서 있는 리스트\n",
    "1. 순서 있는 리스트 목록 1\n",
    "2. 순서 있는 리스트 목록 2\n",
    "3. 순서 있는 리스트 목록 3\n",
    "\n",
    "# 순서 없는 리스트\n",
    "- 순서 없는 리스트 목록1\n",
    "- 순서 없는 리스트 목록2\n",
    "  - 두칸 띄고 하위 목록 2-1\n",
    "  - 두칸 띄고 하위 목록 2-2\n",
    "    - 네칸 띄고 하위 목록  2-2-1"
   ]
  },
  {
   "cell_type": "markdown",
   "id": "8d24a7d1",
   "metadata": {},
   "source": [
    "소스코드\n",
    "```\n",
    "print('hello world')\n",
    "```"
   ]
  },
  {
   "cell_type": "markdown",
   "id": "94cc9a5e",
   "metadata": {},
   "source": [
    "[구글링크](https://google.com, \"google link\")\n",
    "\n",
    "* 외부링크:<http://example.com/>\n",
    "* 이메일링크:<abc@example.com>"
   ]
  },
  {
   "cell_type": "markdown",
   "id": "a1cc9cd3",
   "metadata": {},
   "source": [
    "![구글이미지](https://www.google.com/images/branding/googlelogo/2x/googlelogo_color_272x92dp.png)"
   ]
  },
  {
   "cell_type": "code",
   "execution_count": null,
   "id": "50db103c",
   "metadata": {},
   "outputs": [],
   "source": []
  }
 ],
 "metadata": {
  "kernelspec": {
   "display_name": "venv_bigdata",
   "language": "python",
   "name": "venv_bigdata"
  },
  "language_info": {
   "codemirror_mode": {
    "name": "ipython",
    "version": 3
   },
   "file_extension": ".py",
   "mimetype": "text/x-python",
   "name": "python",
   "nbconvert_exporter": "python",
   "pygments_lexer": "ipython3",
   "version": "3.8.8"
  }
 },
 "nbformat": 4,
 "nbformat_minor": 5
}
